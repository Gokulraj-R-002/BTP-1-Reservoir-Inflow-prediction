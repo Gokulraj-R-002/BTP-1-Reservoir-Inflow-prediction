{
 "cells": [
  {
   "cell_type": "code",
   "execution_count": 1,
   "metadata": {},
   "outputs": [],
   "source": [
    "import csv\n",
    "import xml.etree.ElementTree as ET"
   ]
  },
  {
   "cell_type": "code",
   "execution_count": 2,
   "metadata": {},
   "outputs": [],
   "source": [
    "def clean_data(filename, element_name, output_filename):\n",
    "    # Parse the XML file\n",
    "    tree = ET.parse(filename)\n",
    "    root = tree.getroot()\n",
    "\n",
    "    # Create a CSV file\n",
    "    with open(output_filename, 'w', newline='') as csvfile:\n",
    "        writer = csv.writer(csvfile)\n",
    "        \n",
    "        # Write the header row\n",
    "        writer.writerow(['Year', 'Month', 'Day', 'Data'])\n",
    "        \n",
    "        # Iterate over each 'Attigundi' element\n",
    "        for attigundi in root.findall('.//' + element_name):\n",
    "            # Extract the required data\n",
    "            year = attigundi.find('Year').text\n",
    "            month = attigundi.find('Month').text\n",
    "            day = attigundi.find('Day').text\n",
    "            data = attigundi.find('Data').text.strip()\n",
    "            \n",
    "            # Write the data row\n",
    "            writer.writerow([year, month, day, data])"
   ]
  },
  {
   "cell_type": "code",
   "execution_count": 7,
   "metadata": {},
   "outputs": [],
   "source": [
    "clean_data('./data/bhadra/rainfall_data/Attigundi.xls', 'Attigundi', './data/bhadra/rainfall_data/Attigundi.csv')\n",
    "clean_data('./data/bhadra/rainfall_data/Balehonnur.xls', 'Balehonnur', './data/bhadra/rainfall_data/Balehonnur.csv')\n",
    "clean_data('./data/bhadra/rainfall_data/Basarikatte.xls', 'Basarikatte', './data/bhadra/rainfall_data/Basarikatte.csv')\n",
    "clean_data('./data/bhadra/rainfall_data/Kalasa.xls', 'Kalasa', './data/bhadra/rainfall_data/Kalasa.csv')\n",
    "clean_data('./data/bhadra/rainfall_data/Malandur.xls', 'Malandur', './data/bhadra/rainfall_data/Malandur.csv')\n",
    "clean_data('./data/bhadra/rainfall_data/Narsimharajapura.xls', 'Narsimharajapura', './data/bhadra/rainfall_data/Narsimharajapura.csv')"
   ]
  }
 ],
 "metadata": {
  "kernelspec": {
   "display_name": "Python 3",
   "language": "python",
   "name": "python3"
  },
  "language_info": {
   "codemirror_mode": {
    "name": "ipython",
    "version": 3
   },
   "file_extension": ".py",
   "mimetype": "text/x-python",
   "name": "python",
   "nbconvert_exporter": "python",
   "pygments_lexer": "ipython3",
   "version": "3.11.3"
  },
  "orig_nbformat": 4
 },
 "nbformat": 4,
 "nbformat_minor": 2
}
